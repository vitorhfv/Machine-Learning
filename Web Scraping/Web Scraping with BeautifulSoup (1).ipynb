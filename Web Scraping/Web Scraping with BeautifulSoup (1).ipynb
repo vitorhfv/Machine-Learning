{
 "cells": [
  {
   "cell_type": "code",
   "execution_count": 2,
   "metadata": {},
   "outputs": [],
   "source": [
    "import requests\n",
    "from requests.exceptions import HTTPError\n",
    "\n",
    "conteudo = None\n",
    "URL = 'https://www.imdb.com/chart/top/'\n",
    "\n",
    "try:\n",
    "  resposta = requests.get(URL)\n",
    "  resposta.raise_for_status()\n",
    "except HTTPError as exc:\n",
    "  print(exc)\n",
    "else:\n",
    "  conteudo = resposta.text\n"
   ]
  },
  {
   "cell_type": "code",
   "execution_count": 9,
   "metadata": {},
   "outputs": [],
   "source": [
    "# b) Utilize o pacote beautifulsoup4 para carregar o HTML da variavel conteudo na variavel pagina\n",
    "\n",
    "from bs4 import BeautifulSoup\n",
    "\n",
    "soup = BeautifulSoup (conteudo, 'html.parser')"
   ]
  },
  {
   "cell_type": "code",
   "execution_count": 10,
   "metadata": {},
   "outputs": [],
   "source": [
    "raw_html = soup.find ('tbody', {'class': 'lister-list'}).findAll('tr')"
   ]
  },
  {
   "cell_type": "code",
   "execution_count": 82,
   "metadata": {},
   "outputs": [],
   "source": [
    "movies_list = []\n",
    "for html in raw_html:\n",
    "    rank = html.find ('td', {'class':'titleColumn'}).get_text('', strip=True).split('.')[0]\n",
    "    title = html.find('td', {'class': 'titleColumn'}).a.text\n",
    "    year = html.find('td', {'class': 'titleColumn'}).span.text.strip('()')\n",
    "    rating = html.find ('td', {'class': 'ratingColumn imdbRating'}).strong.text\n",
    "    rating = float (rating)\n",
    "    \n",
    "    raw_list = (rank, title, year, rating)\n",
    "    movies_list.append (raw_list)"
   ]
  },
  {
   "cell_type": "code",
   "execution_count": 88,
   "metadata": {},
   "outputs": [
    {
     "data": {
      "text/plain": [
       "float"
      ]
     },
     "execution_count": 88,
     "metadata": {},
     "output_type": "execute_result"
    }
   ],
   "source": [
    "type(rating)"
   ]
  },
  {
   "cell_type": "code",
   "execution_count": 89,
   "metadata": {},
   "outputs": [
    {
     "data": {
      "text/plain": [
       "[('1', 'Um Sonho de Liberdade', '1994', 9.2),\n",
       " ('2', 'O Poderoso Chefão', '1972', 9.2),\n",
       " ('3', 'Batman: O Cavaleiro das Trevas', '2008', 9.0),\n",
       " ('4', 'O Poderoso Chefão II', '1974', 9.0),\n",
       " ('5', '12 Homens e uma Sentença', '1957', 8.9),\n",
       " ('6', 'A Lista de Schindler', '1993', 8.9),\n",
       " ('7', 'O Senhor dos Anéis: O Retorno do Rei', '2003', 8.9),\n",
       " ('8', 'Pulp Fiction: Tempo de Violência', '1994', 8.9),\n",
       " ('9', 'O Senhor dos Anéis: A Sociedade do Anel', '2001', 8.8),\n",
       " ('10', 'Três Homens em Conflito', '1966', 8.8),\n",
       " ('11', 'Forrest Gump: O Contador de Histórias', '1994', 8.8),\n",
       " ('12', 'Clube da Luta', '1999', 8.7),\n",
       " ('13', 'A Origem', '2010', 8.7),\n",
       " ('14', 'O Senhor dos Anéis: As Duas Torres', '2002', 8.7),\n",
       " ('15', 'O Império Contra-Ataca', '1980', 8.7),\n",
       " ('16', 'Matrix', '1999', 8.7),\n",
       " ('17', 'Os Bons Companheiros', '1990', 8.7),\n",
       " ('18', 'Um Estranho no Ninho', '1975', 8.6),\n",
       " ('19', 'Seven: Os Sete Crimes Capitais', '1995', 8.6),\n",
       " ('20', 'Os Sete Samurais', '1954', 8.6),\n",
       " ('21', 'A Felicidade Não se Compra', '1946', 8.6),\n",
       " ('22', 'O Silêncio dos Inocentes', '1991', 8.6),\n",
       " ('23', 'Cidade de Deus', '2002', 8.6),\n",
       " ('24', 'O Resgate do Soldado Ryan', '1998', 8.6),\n",
       " ('25', 'A Vida é Bela', '1997', 8.6),\n",
       " ('26', 'À Espera de um Milagre', '1999', 8.6),\n",
       " ('27', 'Interestelar', '2014', 8.6),\n",
       " ('28', 'Guerra nas Estrelas', '1977', 8.6),\n",
       " ('29', 'O Exterminador do Futuro 2 - O Julgamento Final', '1991', 8.5),\n",
       " ('30', 'De Volta para o Futuro', '1985', 8.5),\n",
       " ('31', 'A Viagem de Chihiro', '2001', 8.5),\n",
       " ('32', 'Psicose', '1960', 8.5),\n",
       " ('33', 'O Pianista', '2002', 8.5),\n",
       " ('34', 'O Profissional', '1994', 8.5),\n",
       " ('35', 'Parasita', '2019', 8.5),\n",
       " ('36', 'O Rei Leão', '1994', 8.5),\n",
       " ('37', 'Gladiador', '2000', 8.5),\n",
       " ('38', 'A Outra História Americana', '1998', 8.5),\n",
       " ('39', 'Os Suspeitos', '1995', 8.5),\n",
       " ('40', 'Os Infiltrados', '2006', 8.5),\n",
       " ('41', 'O Grande Truque', '2006', 8.5),\n",
       " ('42', 'Casablanca', '1942', 8.5),\n",
       " ('43', 'Top Gun: Maverick', '2022', 8.5),\n",
       " ('44', 'Whiplash: Em Busca da Perfeição', '2014', 8.5),\n",
       " ('45', 'Intocáveis', '2011', 8.5),\n",
       " ('46', 'Tempos Modernos', '1936', 8.4),\n",
       " ('47', 'Harakiri', '1962', 8.4),\n",
       " ('48', 'Era uma Vez no Oeste', '1968', 8.4),\n",
       " ('49', 'Túmulo dos Vagalumes', '1988', 8.4),\n",
       " ('50', 'Janela Indiscreta', '1954', 8.4),\n",
       " ('51', 'Alien - O 8º Passageiro', '1979', 8.4),\n",
       " ('52', 'Luzes da Cidade', '1931', 8.4),\n",
       " ('53', 'Cinema Paradiso', '1988', 8.4),\n",
       " ('54', 'Amnésia', '2000', 8.4),\n",
       " ('55', 'Apocalypse Now', '1979', 8.4),\n",
       " ('56', 'Os Caçadores da Arca Perdida', '1981', 8.4),\n",
       " ('57', 'Django Livre', '2012', 8.4),\n",
       " ('58', 'WALL·E', '2008', 8.4),\n",
       " ('59', 'A Vida dos Outros', '2006', 8.4),\n",
       " ('60', 'Crepúsculo dos Deuses', '1950', 8.4),\n",
       " ('61', 'Glória Feita de Sangue', '1957', 8.4),\n",
       " ('62', 'O Iluminado', '1980', 8.4),\n",
       " ('63', 'O Grande Ditador', '1940', 8.4),\n",
       " ('64', 'Testemunha de Acusação', '1957', 8.4),\n",
       " ('65', 'Vingadores: Guerra Infinita', '2018', 8.4),\n",
       " ('66', 'Aliens, O Resgate', '1986', 8.3),\n",
       " ('67', 'Beleza Americana', '1999', 8.3),\n",
       " ('68', 'Dr. Fantástico', '1964', 8.3),\n",
       " ('69', 'Homem-Aranha no Aranhaverso', '2018', 8.3),\n",
       " ('70', 'Batman: O Cavaleiro das Trevas Ressurge', '2012', 8.3),\n",
       " ('71', 'Oldboy', '2003', 8.3),\n",
       " ('72', 'Coringa', '2019', 8.3),\n",
       " ('73', 'Amadeus', '1984', 8.3),\n",
       " ('74', 'Coração Valente', '1995', 8.3),\n",
       " ('75', 'Toy Story', '1995', 8.3),\n",
       " ('76', 'Viva: A Vida é uma Festa', '2017', 8.3),\n",
       " ('77', 'O Barco: Inferno no Mar', '1981', 8.3),\n",
       " ('78', 'Bastardos Inglórios', '2009', 8.3),\n",
       " ('79', 'Princesa Mononoke', '1997', 8.3),\n",
       " ('80', 'Vingadores: Ultimato', '2019', 8.3),\n",
       " ('81', 'Era uma Vez na América', '1984', 8.3),\n",
       " ('82', 'Gênio Indomável', '1997', 8.3),\n",
       " ('83', 'Réquiem para um Sonho', '2000', 8.3),\n",
       " ('84', 'Toy Story 3', '2010', 8.3),\n",
       " ('85', 'Your Name.', '2016', 8.3),\n",
       " ('86', 'Cantando na Chuva', '1952', 8.3),\n",
       " ('87', '3 Idiotas', '2009', 8.3),\n",
       " ('88', 'Star Wars, Episódio VI: O Retorno do Jedi', '1983', 8.3),\n",
       " ('89', '2001: Uma Odisséia no Espaço', '1968', 8.3),\n",
       " ('90', 'Brilho Eterno de uma Mente sem Lembranças', '2004', 8.3),\n",
       " ('91', 'Cães de Aluguel', '1992', 8.3),\n",
       " ('92', 'Céu E Inferno', '1963', 8.3),\n",
       " ('93', 'Cafarnaum', '2018', 8.3),\n",
       " ('94', 'Cidadão Kane', '1941', 8.3),\n",
       " ('95', 'Lawrence da Arábia', '1962', 8.3),\n",
       " ('96', 'A Caça', '2012', 8.3),\n",
       " ('97', 'Intriga Internacional', '1959', 8.3),\n",
       " ('98', 'M, o Vampiro de Dusseldorf', '1931', 8.3),\n",
       " ('99', 'Um Corpo que Cai', '1958', 8.2),\n",
       " ('100', 'O Fabuloso Destino de Amélie Poulain', '2001', 8.2),\n",
       " ('101', 'Laranja Mecânica', '1971', 8.2),\n",
       " ('102', 'Vá e Veja', '1985', 8.2),\n",
       " ('103', 'Nascido para Matar', '1987', 8.2),\n",
       " ('104', 'Pacto de Sangue', '1944', 8.2),\n",
       " ('105', 'Se Meu Apartamento Falasse', '1960', 8.2),\n",
       " ('106', 'Scarface', '1983', 8.2),\n",
       " ('107', 'Viver', '1952', 8.2),\n",
       " ('108', 'Golpe de Mestre', '1973', 8.2),\n",
       " ('109', 'O Sol é para Todos', '1962', 8.2),\n",
       " ('110', 'Taxi Driver: Motorista de Táxi', '1976', 8.2),\n",
       " ('111', 'Los Angeles: Cidade Proibida', '1997', 8.2),\n",
       " ('112', 'Up: Altas Aventuras', '2009', 8.2),\n",
       " ('113', 'Fogo Contra Fogo', '1995', 8.2),\n",
       " ('114', 'Hamilton', '2020', 8.2),\n",
       " ('115', 'Metrópolis', '1927', 8.2),\n",
       " ('116', 'A Separação', '2011', 8.2),\n",
       " ('117', 'Snatch: Porcos e Diamantes', '2000', 8.2),\n",
       " ('118', 'Duro de Matar', '1988', 8.2),\n",
       " ('119', 'Incêndios', '2010', 8.2),\n",
       " ('120', 'Indiana Jones e a Última Cruzada', '1989', 8.2),\n",
       " ('121', 'Ladrões de Bicicletas', '1948', 8.2),\n",
       " ('122', 'Homem-Aranha: Sem Volta para Casa', '2021', 8.2),\n",
       " ('123', '1917', '2019', 8.2),\n",
       " ('124', 'Como Estrelas na Terra', '2007', 8.2),\n",
       " ('125', 'A Queda! As Últimas Horas de Hitler', '2004', 8.2),\n",
       " ('126', 'Por uns Dólares a Mais', '1965', 8.2),\n",
       " ('127', 'Batman Begins', '2005', 8.2),\n",
       " ('128', 'Dangal', '2016', 8.2),\n",
       " ('129', 'O Garoto', '1921', 8.2),\n",
       " ('130', 'Quanto Mais Quente Melhor', '1959', 8.2),\n",
       " ('131', 'Meu Pai', '2020', 8.2),\n",
       " ('132', 'A Malvada', '1950', 8.2),\n",
       " ('133', 'Green Book: O Guia', '2018', 8.2),\n",
       " ('134', 'Tudo em Todo Lugar ao Mesmo Tempo', '2022', 8.2),\n",
       " ('135', 'O Lobo de Wall Street', '2013', 8.2),\n",
       " ('136', 'Julgamento em Nuremberg', '1961', 8.2),\n",
       " ('137', 'Os Imperdoáveis', '1992', 8.2),\n",
       " ('138', 'Cassino', '1995', 8.2),\n",
       " ('139', 'Ran', '1985', 8.2),\n",
       " ('140', 'O Labirinto do Fauno', '2006', 8.2),\n",
       " ('141', 'Sangue Negro', '2007', 8.2),\n",
       " ('142', 'O Sexto Sentido', '1999', 8.2),\n",
       " ('143', 'Uma Mente Brilhante', '2001', 8.2),\n",
       " ('144', 'Monty Python em Busca do Cálice Sagrado', '1975', 8.2),\n",
       " ('145', 'O Show de Truman: O Show da Vida', '1998', 8.2),\n",
       " ('146', 'Yojimbo, o Guarda-Costas', '1961', 8.1),\n",
       " ('147', 'O Tesouro da Sierra Madre', '1948', 8.1),\n",
       " ('148', 'Ilha do Medo', '2010', 8.1),\n",
       " ('149', 'Rashomon', '1950', 8.1),\n",
       " ('150', 'Fugindo do Inferno', '1963', 8.1),\n",
       " ('151', 'Jurassic Park', '1993', 8.1),\n",
       " ('152', 'Kill Bill: Volume 1', '2003', 8.1),\n",
       " ('153', 'Onde os Fracos Não Têm Vez', '2007', 8.1),\n",
       " ('154', 'Procurando Nemo', '2003', 8.1),\n",
       " ('155', 'O Homem Elefante', '1980', 8.1),\n",
       " ('156', 'Touro Indomável', '1980', 8.1),\n",
       " ('157', 'Chinatown', '1974', 8.1),\n",
       " ('158', '...E o Vento Levou', '1939', 8.1),\n",
       " ('159', 'V de Vingança', '2005', 8.1),\n",
       " ('160', 'O Enigma de Outro Mundo', '1982', 8.1),\n",
       " ('161', 'Divertida Mente', '2015', 8.1),\n",
       " ('162', 'Jogos, Trapaças e Dois Canos Fumegantes', '1998', 8.1),\n",
       " ('163', 'Disque M para Matar', '1954', 8.1),\n",
       " ('164', 'O Segredo dos Seus Olhos', '2009', 8.1),\n",
       " ('165', 'A Ponte do Rio Kwai', '1957', 8.1),\n",
       " ('166', 'O Castelo Animado', '2004', 8.1),\n",
       " ('167', 'Três Anúncios para um Crime', '2017', 8.1),\n",
       " ('168', 'Trainspotting: Sem Limites', '1996', 8.1),\n",
       " ('169', 'Gran Torino', '2008', 8.1),\n",
       " ('170', 'Guerreiro', '2011', 8.1),\n",
       " ('171', 'Fargo: Uma Comédia de Erros', '1996', 8.1),\n",
       " ('172', 'Meu Amigo Totoro', '1988', 8.1),\n",
       " ('173', 'Os Suspeitos', '2013', 8.1),\n",
       " ('174', 'Menina de Ouro', '2004', 8.1),\n",
       " ('175', 'Em Busca do Ouro', '1925', 8.1),\n",
       " ('176', 'Blade Runner: O Caçador de Androides', '1982', 8.1),\n",
       " ('177', 'Prenda-me se for Capaz', '2002', 8.1),\n",
       " ('178', 'Sindicato de Ladrões', '1954', 8.1),\n",
       " ('179', 'O 3º Homem', '1949', 8.1),\n",
       " ('180', 'Filhos do Paraíso', '1997', 8.1),\n",
       " ('181', 'Ben-Hur', '1959', 8.1),\n",
       " ('182', '12 Anos de Escravidão', '2013', 8.1),\n",
       " ('183', 'A General', '1926', 8.1),\n",
       " ('184', 'Morangos Silvestres', '1957', 8.1),\n",
       " ('185', 'Garota Exemplar', '2014', 8.1),\n",
       " ('186', 'Antes do Amanhecer', '1995', 8.1),\n",
       " ('187', 'Harry Potter e as Relíquias da Morte - Parte 2', '2011', 8.1),\n",
       " ('188', 'O Franco Atirador', '1978', 8.1),\n",
       " ('189', 'Em Nome do Pai', '1993', 8.1),\n",
       " ('190', 'O Grande Hotel Budapeste', '2014', 8.1),\n",
       " ('191', 'A Mulher Faz o Homem', '1939', 8.1),\n",
       " ('192', 'O Salário do Medo', '1953', 8.1),\n",
       " ('193', 'Barry Lyndon', '1975', 8.1),\n",
       " ('194', 'Bancando o Águia', '1924', 8.1),\n",
       " ('195', 'Memórias de um Assassino', '2003', 8.1),\n",
       " ('196', 'O Quarto de Jack', '2015', 8.1),\n",
       " ('197', 'Até o Último Homem', '2016', 8.1),\n",
       " ('198', 'Klaus', '2019', 8.1),\n",
       " ('199', 'O Sétimo Selo', '1957', 8.1),\n",
       " ('200', 'Relatos Selvagens', '2014', 8.1),\n",
       " ('201', 'O Grande Lebowski', '1998', 8.1),\n",
       " ('202', 'Mad Max: Estrada da Fúria', '2015', 8.1),\n",
       " ('203', 'Como Treinar o Seu Dragão', '2010', 8.1),\n",
       " ('204', 'Mary e Max: Uma Amizade Diferente', '2009', 8.1),\n",
       " ('205', 'Monstros S.A.', '2001', 8.1),\n",
       " ('206', 'Tubarão', '1975', 8.1),\n",
       " ('207', \"O Martírio de Joana D'Arc\", '1928', 8.1),\n",
       " ('208', 'Hotel Ruanda', '2004', 8.1),\n",
       " ('209', 'Era uma Vez em Tóquio', '1953', 8.1),\n",
       " ('210', 'Sociedade dos Poetas Mortos', '1989', 8.1),\n",
       " ('211', 'A Canção da Estrada', '1955', 8.1),\n",
       " ('212', 'Platoon', '1986', 8.0),\n",
       " ('213', 'Rocky: Um Lutador', '1976', 8.0),\n",
       " ('214', 'Ford vs Ferrari', '2019', 8.0),\n",
       " ('215', 'Conta Comigo', '1986', 8.0),\n",
       " ('216', 'O Exterminador do Futuro', '1984', 8.0),\n",
       " ('217', 'Spotlight: Segredos Revelados', '2015', 8.0),\n",
       " ('218', 'Rush: No Limite da Emoção', '2013', 8.0),\n",
       " ('219', 'Na Natureza Selvagem', '2007', 8.0),\n",
       " ('220', 'Rede de Intrigas', '1976', 8.0),\n",
       " ('221', 'O Mágico de Oz', '1939', 8.0),\n",
       " ('222', 'Logan', '2017', 8.0),\n",
       " ('223', 'Feitiço do Tempo', '1993', 8.0),\n",
       " ('224', 'Ratatouille', '2007', 8.0),\n",
       " ('225', 'Antes do Pôr-do-Sol', '2004', 8.0),\n",
       " ('226', 'O Exorcista', '1973', 8.0),\n",
       " ('227', 'Os Melhores Anos de Nossa Vida', '1946', 8.0),\n",
       " ('228', 'Os Incríveis', '2004', 8.0),\n",
       " ('229', 'Ser ou Não Ser', '1942', 8.0),\n",
       " ('230', 'As Vinhas da Ira', '1940', 8.0),\n",
       " ('231', 'Rebecca, a Mulher Inesquecível', '1940', 8.0),\n",
       " ('232', 'A Batalha de Argel', '1966', 8.0),\n",
       " ('233', 'Sempre ao Seu Lado', '2009', 8.0),\n",
       " ('234', 'Rebeldia Indomável', '1967', 8.0),\n",
       " ('235', 'Amores Brutos', '2000', 8.0),\n",
       " ('236', 'Piratas do Caribe: A Maldição do Pérola Negra', '2003', 8.0),\n",
       " ('237', 'O Ódio', '1995', 8.0),\n",
       " ('238', 'Os Incompreendidos', '1959', 8.0),\n",
       " ('239', 'Quando Duas Mulheres Pecam', '1966', 8.0),\n",
       " ('240', 'A Vida de Brian', '1979', 8.0),\n",
       " ('241', 'Meu Pai e Meu Filho', '2005', 8.0),\n",
       " ('242', 'Dersu Uzala', '1975', 8.0),\n",
       " ('243', 'A Noviça Rebelde', '1965', 8.0),\n",
       " ('244', 'Aconteceu Naquela Noite', '1934', 8.0),\n",
       " ('245', 'A Criada', '2016', 8.0),\n",
       " ('246', 'Jai Bhim', '2021', 8.0),\n",
       " ('247', 'Aladdin', '1992', 8.0),\n",
       " ('248', 'Gandhi', '1982', 8.0),\n",
       " ('249', 'Histórias Cruzadas', '2011', 8.0),\n",
       " ('250', 'A Bela e a Fera', '1991', 8.0)]"
      ]
     },
     "execution_count": 89,
     "metadata": {},
     "output_type": "execute_result"
    }
   ],
   "source": [
    "movies_list"
   ]
  },
  {
   "cell_type": "code",
   "execution_count": 125,
   "metadata": {},
   "outputs": [],
   "source": [
    "import pandas as pd\n",
    "import csv"
   ]
  },
  {
   "cell_type": "code",
   "execution_count": 92,
   "metadata": {},
   "outputs": [],
   "source": [
    "fields = ['Colocação', 'Nome', 'Ano', 'Nota']"
   ]
  },
  {
   "cell_type": "code",
   "execution_count": 93,
   "metadata": {},
   "outputs": [],
   "source": [
    "rows = movies_list"
   ]
  },
  {
   "cell_type": "code",
   "execution_count": 144,
   "metadata": {},
   "outputs": [],
   "source": [
    "with open('f.csv', 'w') as f:\n",
    "   pass"
   ]
  },
  {
   "cell_type": "code",
   "execution_count": 153,
   "metadata": {},
   "outputs": [],
   "source": [
    "with open('f.csv', 'w') as f:\n",
    "      \n",
    "    # using csv.writer method from CSV package\n",
    "    write = csv.writer(f)\n",
    "      \n",
    "    write.writerow(fields)\n",
    "    write.writerows(rows)\n"
   ]
  },
  {
   "cell_type": "code",
   "execution_count": 219,
   "metadata": {},
   "outputs": [],
   "source": [
    "with open (file = 'FILME.csv', mode='r', encoding = 'utf8') as filme:\n",
    "    leitor_csv_iter = csv.reader (filme)"
   ]
  },
  {
   "cell_type": "code",
   "execution_count": 220,
   "metadata": {},
   "outputs": [
    {
     "name": "stdout",
     "output_type": "stream",
     "text": [
      "<_io.TextIOWrapper name='FILME.csv' mode='r' encoding='utf8'>\n"
     ]
    }
   ],
   "source": [
    "print (filme)"
   ]
  },
  {
   "cell_type": "code",
   "execution_count": 158,
   "metadata": {},
   "outputs": [],
   "source": [
    "df = pd.read_csv('f.csv')"
   ]
  },
  {
   "cell_type": "code",
   "execution_count": 196,
   "metadata": {},
   "outputs": [
    {
     "name": "stdout",
     "output_type": "stream",
     "text": [
      "     Colocação                            Nome   Ano  Nota\n",
      "0            1           Um Sonho de Liberdade  1994   9.2\n",
      "1            2               O Poderoso Chefão  1972   9.2\n",
      "2            3  Batman: O Cavaleiro das Trevas  2008   9.0\n",
      "3            4            O Poderoso Chefão II  1974   9.0\n",
      "4            5        12 Homens e uma Sentença  1957   8.9\n",
      "..         ...                             ...   ...   ...\n",
      "245        246                        Jai Bhim  2021   8.0\n",
      "246        247                         Aladdin  1992   8.0\n",
      "247        248                          Gandhi  1982   8.0\n",
      "248        249              Histórias Cruzadas  2011   8.0\n",
      "249        250                 A Bela e a Fera  1991   8.0\n",
      "\n",
      "[250 rows x 4 columns]\n"
     ]
    }
   ],
   "source": [
    "print(df)"
   ]
  },
  {
   "cell_type": "code",
   "execution_count": 221,
   "metadata": {},
   "outputs": [],
   "source": [
    "df=df.loc[0:9]"
   ]
  },
  {
   "cell_type": "code",
   "execution_count": 223,
   "metadata": {},
   "outputs": [
    {
     "name": "stdout",
     "output_type": "stream",
     "text": [
      "   Colocação                                     Nome   Ano  Nota\n",
      "0          1                    Um Sonho de Liberdade  1994   9.2\n",
      "1          2                        O Poderoso Chefão  1972   9.2\n",
      "2          3           Batman: O Cavaleiro das Trevas  2008   9.0\n",
      "3          4                     O Poderoso Chefão II  1974   9.0\n",
      "4          5                 12 Homens e uma Sentença  1957   8.9\n",
      "5          6                     A Lista de Schindler  1993   8.9\n",
      "6          7     O Senhor dos Anéis: O Retorno do Rei  2003   8.9\n",
      "7          8         Pulp Fiction: Tempo de Violência  1994   8.9\n",
      "8          9  O Senhor dos Anéis: A Sociedade do Anel  2001   8.8\n",
      "9         10                  Três Homens em Conflito  1966   8.8\n"
     ]
    }
   ],
   "source": [
    "print(df)"
   ]
  },
  {
   "cell_type": "code",
   "execution_count": 224,
   "metadata": {},
   "outputs": [],
   "source": [
    "df.to_csv('FILMES.csv', index=False, sep=';')\n"
   ]
  },
  {
   "cell_type": "code",
   "execution_count": 227,
   "metadata": {},
   "outputs": [],
   "source": [
    "df2=pd.read_csv(r'C:\\Users\\PC\\Downloads\\FILMES.csv', sep=';')"
   ]
  },
  {
   "cell_type": "code",
   "execution_count": 229,
   "metadata": {},
   "outputs": [
    {
     "name": "stdout",
     "output_type": "stream",
     "text": [
      "   Colocação                                     Nome   Ano  Nota\n",
      "0          1                    Um Sonho de Liberdade  1994   9.2\n",
      "1          2                        O Poderoso Chefão  1972   9.2\n",
      "2          3           Batman: O Cavaleiro das Trevas  2008   9.0\n",
      "3          4                     O Poderoso Chefão II  1974   9.0\n",
      "4          5                 12 Homens e uma Sentença  1957   8.9\n",
      "5          6                     A Lista de Schindler  1993   8.9\n",
      "6          7     O Senhor dos Anéis: O Retorno do Rei  2003   8.9\n",
      "7          8         Pulp Fiction: Tempo de Violência  1994   8.9\n",
      "8          9  O Senhor dos Anéis: A Sociedade do Anel  2001   8.8\n",
      "9         10                  Três Homens em Conflito  1966   8.8\n"
     ]
    }
   ],
   "source": [
    "print(df2)"
   ]
  },
  {
   "cell_type": "code",
   "execution_count": null,
   "metadata": {},
   "outputs": [],
   "source": []
  }
 ],
 "metadata": {
  "colab": {
   "authorship_tag": "ABX9TyMwjZSpweqTFryINxtbK0x2",
   "collapsed_sections": [],
   "name": "module_11_exercise.ipynb",
   "provenance": [],
   "toc_visible": true
  },
  "kernelspec": {
   "display_name": "Python 3 (ipykernel)",
   "language": "python",
   "name": "python3"
  },
  "language_info": {
   "codemirror_mode": {
    "name": "ipython",
    "version": 3
   },
   "file_extension": ".py",
   "mimetype": "text/x-python",
   "name": "python",
   "nbconvert_exporter": "python",
   "pygments_lexer": "ipython3",
   "version": "3.9.7"
  }
 },
 "nbformat": 4,
 "nbformat_minor": 1
}
