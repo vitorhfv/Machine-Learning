{
 "cells": [
  {
   "cell_type": "code",
   "execution_count": 2,
   "metadata": {},
   "outputs": [],
   "source": [
    "import requests\n",
    "from requests.exceptions import HTTPError\n",
    "\n",
    "conteudo = None\n",
    "URL = 'https://www.imdb.com/chart/top/'\n",
    "\n",
    "try:\n",
    "  resposta = requests.get(URL)\n",
    "  resposta.raise_for_status()\n",
    "except HTTPError as exc:\n",
    "  print(exc)\n",
    "else:\n",
    "  conteudo = resposta.text\n"
   ]
  },
  {
   "cell_type": "code",
   "execution_count": 9,
   "metadata": {},
   "outputs": [],
   "source": [
    "# b) Utilize o pacote beautifulsoup4 para carregar o HTML da variavel conteudo na variavel pagina\n",
    "\n",
    "from bs4 import BeautifulSoup\n",
    "\n",
    "soup = BeautifulSoup (conteudo, 'html.parser')"
   ]
  },
  {
   "cell_type": "code",
   "execution_count": 10,
   "metadata": {},
   "outputs": [],
   "source": [
    "raw_html = soup.find ('tbody', {'class': 'lister-list'}).findAll('tr')"
   ]
  },
  {
   "cell_type": "code",
   "execution_count": 82,
   "metadata": {},
   "outputs": [],
   "source": [
    "movies_list = []\n",
    "for html in raw_html:\n",
    "    rank = html.find ('td', {'class':'titleColumn'}).get_text('', strip=True).split('.')[0]\n",
    "    title = html.find('td', {'class': 'titleColumn'}).a.text\n",
    "    year = html.find('td', {'class': 'titleColumn'}).span.text.strip('()')\n",
    "    rating = html.find ('td', {'class': 'ratingColumn imdbRating'}).strong.text\n",
    "    rating = float (rating)\n",
    "    \n",
    "    raw_list = (rank, title, year, rating)\n",
    "    movies_list.append (raw_list)"
   ]
  },
  {
   "cell_type": "code",
   "execution_count": 88,
   "metadata": {},
   "outputs": [
    {
     "data": {
      "text/plain": [
       "float"
      ]
     },
     "execution_count": 88,
     "metadata": {},
     "output_type": "execute_result"
    }
   ],
   "source": [
    "type(rating)"
   ]
  },
  {
   "cell_type": "code",
   "execution_count": 89,
   "metadata": {},
   "outputs": [
    {
     "data": {
      "text/plain": [
       "[('1', 'Um Sonho de Liberdade', '1994', 9.2),\n",
       " ('2', 'O Poderoso Chefão', '1972', 9.2),\n",
       " ('3', 'Batman: O Cavaleiro das Trevas', '2008', 9.0),\n",
       " ('4', 'O Poderoso Chefão II', '1974', 9.0),\n",
       " ('5', '12 Homens e uma Sentença', '1957', 8.9),\n",
       " ('6', 'A Lista de Schindler', '1993', 8.9),\n",
       " ('7', 'O Senhor dos Anéis: O Retorno do Rei', '2003', 8.9),\n",
       " ('8', 'Pulp Fiction: Tempo de Violência', '1994', 8.9),\n",
       " ('9', 'O Senhor dos Anéis: A Sociedade do Anel', '2001', 8.8),\n",
       " ('10', 'Três Homens em Conflito', '1966', 8.8),\n",
       " ('11', 'Forrest Gump: O Contador de Histórias', '1994', 8.8),\n",
       " ('12', 'Clube da Luta', '1999', 8.7),\n",
       " ('13', 'A Origem', '2010', 8.7),\n",
       " ('14', 'O Senhor dos Anéis: As Duas Torres', '2002', 8.7),\n",
       " ('15', 'O Império Contra-Ataca', '1980', 8.7),\n",
       " ('16', 'Matrix', '1999', 8.7),\n",
       " ('17', 'Os Bons Companheiros', '1990', 8.7),\n",
       " ('18', 'Um Estranho no Ninho', '1975', 8.6),\n",
       " ('19', 'Seven: Os Sete Crimes Capitais', '1995', 8.6),\n",
       " ('20', 'Os Sete Samurais', '1954', 8.6),\n",
       " ('21', 'A Felicidade Não se Compra', '1946', 8.6),\n",
       " ('22', 'O Silêncio dos Inocentes', '1991', 8.6),\n",
       " ('23', 'Cidade de Deus', '2002', 8.6),\n",
       " ('24', 'O Resgate do Soldado Ryan', '1998', 8.6),\n",
       " ('25', 'A Vida é Bela', '1997', 8.6),\n",
       " ('26', 'À Espera de um Milagre', '1999', 8.6),\n",
       " ('27', 'Interestelar', '2014', 8.6),\n",
       " ('28', 'Guerra nas Estrelas', '1977', 8.6),\n",
       " ('29', 'O Exterminador do Futuro 2 - O Julgamento Final', '1991', 8.5),\n",
       " ('30', 'De Volta para o Futuro', '1985', 8.5),\n",
       " ('31', 'A Viagem de Chihiro', '2001', 8.5),\n",
       " ('32', 'Psicose', '1960', 8.5),\n",
       " ('33', 'O Pianista', '2002', 8.5),\n",
       " ('34', 'O Profissional', '1994', 8.5),\n",
       " ('35', 'Parasita', '2019', 8.5),\n",
       " ('36', 'O Rei Leão', '1994', 8.5),\n",
       " ('37', 'Gladiador', '2000', 8.5),\n",
       " ('38', 'A Outra História Americana', '1998', 8.5),\n",
       " ('39', 'Os Suspeitos', '1995', 8.5),\n",
       " ('40', 'Os Infiltrados', '2006', 8.5),\n",
       " ('41', 'O Grande Truque', '2006', 8.5),\n",
       " ('42', 'Casablanca', '1942', 8.5),\n",
       " ('43', 'Top Gun: Maverick', '2022', 8.5),\n",
       " ('44', 'Whiplash: Em Busca da Perfeição', '2014', 8.5),\n",
       " ('45', 'Intocáveis', '2011', 8.5),\n",
       " ('46', 'Tempos Modernos', '1936', 8.4),\n",
       " ('47', 'Harakiri', '1962', 8.4),\n",
       " ('48', 'Era uma Vez no Oeste', '1968', 8.4),\n",
       " ('49', 'Túmulo dos Vagalumes', '1988', 8.4),\n",
       " ('50', 'Janela Indiscreta', '1954', 8.4),\n",
       " ('51', 'Alien - O 8º Passageiro', '1979', 8.4),\n",
       " ('52', 'Luzes da Cidade', '1931', 8.4),\n",
       " ('53', 'Cinema Paradiso', '1988', 8.4),\n",
       " ('54', 'Amnésia', '2000', 8.4),\n",
       " ('55', 'Apocalypse Now', '1979', 8.4),\n",
       " ('56', 'Os Caçadores da Arca Perdida', '1981', 8.4),\n",
       " ('57', 'Django Livre', '2012', 8.4),\n",
       " ('58', 'WALL·E', '2008', 8.4),\n",
       " ('59', 'A Vida dos Outros', '2006', 8.4),\n",
       " ('60', 'Crepúsculo dos Deuses', '1950', 8.4),\n",
       " ('61', 'Glória Feita de Sangue', '1957', 8.4),\n",
       " ('62', 'O Iluminado', '1980', 8.4),\n",
       " ('63', 'O Grande Ditador', '1940', 8.4),\n",
       " ('64', 'Testemunha de Acusação', '1957', 8.4),\n",
       " ('65', 'Vingadores: Guerra Infinita', '2018', 8.4),\n",
       " ('66', 'Aliens, O Resgate', '1986', 8.3),\n",
       " ('67', 'Beleza Americana', '1999', 8.3),\n",
       " ('68', 'Dr. Fantástico', '1964', 8.3),\n",
       " ('69', 'Homem-Aranha no Aranhaverso', '2018', 8.3),\n",
       " ('70', 'Batman: O Cavaleiro das Trevas Ressurge', '2012', 8.3),\n",
       " ('71', 'Oldboy', '2003', 8.3),\n",
       " ('72', 'Coringa', '2019', 8.3),\n",
       " ('73', 'Amadeus', '1984', 8.3),\n",
       " ('74', 'Coração Valente', '1995', 8.3),\n",
       " ('75', 'Toy Story', '1995', 8.3),\n",
       " ('76', 'Viva: A Vida é uma Festa', '2017', 8.3),\n",
       " ('77', 'O Barco: Inferno no Mar', '1981', 8.3),\n",
       " ('78', 'Bastardos Inglórios', '2009', 8.3),\n",
       " ('79', 'Princesa Mononoke', '1997', 8.3),\n",
       " ('80', 'Vingadores: Ultimato', '2019', 8.3),\n",
       " ('81', 'Era uma Vez na América', '1984', 8.3),\n",
       " ('82', 'Gênio Indomável', '1997', 8.3),\n",
       " ('83', 'Réquiem para um Sonho', '2000', 8.3),\n",
       " ('84', 'Toy Story 3', '2010', 8.3),\n",
       " ('85', 'Your Name.', '2016', 8.3),\n",
       " ('86', 'Cantando na Chuva', '1952', 8.3),\n",
       " ('87', '3 Idiotas', '2009', 8.3),\n",
       " ('88', 'Star Wars, Episódio VI: O Retorno do Jedi', '1983', 8.3),\n",
       " ('89', '2001: Uma Odisséia no Espaço', '1968', 8.3),\n",
       " ('90', 'Brilho Eterno de uma Mente sem Lembranças', '2004', 8.3),\n",
       " ('91', 'Cães de Aluguel', '1992', 8.3),\n",
       " ('92', 'Céu E Inferno', '1963', 8.3),\n",
       " ('93', 'Cafarnaum', '2018', 8.3),\n",
       " ('94', 'Cidadão Kane', '1941', 8.3),\n",
       " ('95', 'Lawrence da Arábia', '1962', 8.3),\n",
       " ('96', 'A Caça', '2012', 8.3),\n",
       " ('97', 'Intriga Internacional', '1959', 8.3),\n",
       " ('98', 'M, o Vampiro de Dusseldorf', '1931', 8.3),\n",
       " ('99', 'Um Corpo que Cai', '1958', 8.2),\n",
       " ('100', 'O Fabuloso Destino de Amélie Poulain', '2001', 8.2),\n",
       " ('101', 'Laranja Mecânica', '1971', 8.2),\n",
       " ('102', 'Vá e Veja', '1985', 8.2),\n",
       " ('103', 'Nascido para Matar', '1987', 8.2),\n",
       " ('104', 'Pacto de Sangue', '1944', 8.2),\n",
       " ('105', 'Se Meu Apartamento Falasse', '1960', 8.2),\n",
       " ('106', 'Scarface', '1983', 8.2),\n",
       " ('107', 'Viver', '1952', 8.2),\n",
       " ('108', 'Golpe de Mestre', '1973', 8.2),\n",
       " ('109', 'O Sol é para Todos', '1962', 8.2),\n",
       " ('110', 'Taxi Driver: Motorista de Táxi', '1976', 8.2),\n",
       " ('111', 'Los Angeles: Cidade Proibida', '1997', 8.2),\n",
       " ('112', 'Up: Altas Aventuras', '2009', 8.2),\n",
       " ('113', 'Fogo Contra Fogo', '1995', 8.2),\n",
       " ('114', 'Hamilton', '2020', 8.2),\n",
       " ('115', 'Metrópolis', '1927', 8.2),\n",
       " ('116', 'A Separação', '2011', 8.2),\n",
       " ('117', 'Snatch: Porcos e Diamantes', '2000', 8.2),\n",
       " ('118', 'Duro de Matar', '1988', 8.2),\n",
       " ('119', 'Incêndios', '2010', 8.2),\n",
       " ('120', 'Indiana Jones e a Última Cruzada', '1989', 8.2),\n",
       " ('121', 'Ladrões de Bicicletas', '1948', 8.2),\n",
       " ('122', 'Homem-Aranha: Sem Volta para Casa', '2021', 8.2),\n",
       " ('123', '1917', '2019', 8.2),\n",
       " ('124', 'Como Estrelas na Terra', '2007', 8.2),\n",
       " ('125', 'A Queda! As Últimas Horas de Hitler', '2004', 8.2),\n",
       " ('126', 'Por uns Dólares a Mais', '1965', 8.2),\n",
       " ('127', 'Batman Begins', '2005', 8.2),\n",
       " ('128', 'Dangal', '2016', 8.2),\n",
       " ('129', 'O Garoto', '1921', 8.2),\n",
       " ('130', 'Quanto Mais Quente Melhor', '1959', 8.2),\n",
       " ('131', 'Meu Pai', '2020', 8.2),\n",
       " ('132', 'A Malvada', '1950', 8.2),\n",
       " ('133', 'Green Book: O Guia', '2018', 8.2),\n",
       " ('134', 'Tudo em Todo Lugar ao Mesmo Tempo', '2022', 8.2),\n",
       " ('135', 'O Lobo de Wall Street', '2013', 8.2),\n",
       " ('136', 'Julgamento em Nuremberg', '1961', 8.2),\n",
       " ('137', 'Os Imperdoáveis', '1992', 8.2),\n",
       " ('138', 'Cassino', '1995', 8.2),\n",
       " ('139', 'Ran', '1985', 8.2),\n",
       " ('140', 'O Labirinto do Fauno', '2006', 8.2),\n",
       " ('141', 'Sangue Negro', '2007', 8.2),\n",
       " ('142', 'O Sexto Sentido', '1999', 8.2),\n",
       " ('143', 'Uma Mente Brilhante', '2001', 8.2),\n",
       " ('144', 'Monty Python em Busca do Cálice Sagrado', '1975', 8.2),\n",
       " ('145', 'O Show de Truman: O Show da Vida', '1998', 8.2),\n",
       " ('146', 'Yojimbo, o Guarda-Costas', '1961', 8.1),\n",
       " ('147', 'O Tesouro da Sierra Madre', '1948', 8.1),\n",
       " ('148', 'Ilha do Medo', '2010', 8.1),\n",
       " ('149', 'Rashomon', '1950', 8.1),\n",
       " ('150', 'Fugindo do Inferno', '1963', 8.1),\n",
       " ('151', 'Jurassic Park', '1993', 8.1),\n",
       " ('152', 'Kill Bill: Volume 1', '2003', 8.1),\n",
       " ('153', 'Onde os Fracos Não Têm Vez', '2007', 8.1),\n",
       " ('154', 'Procurando Nemo', '2003', 8.1),\n",
       " ('155', 'O Homem Elefante', '1980', 8.1),\n",
       " ('156', 'Touro Indomável', '1980', 8.1),\n",
       " ('157', 'Chinatown', '1974', 8.1),\n",
       " ('158', '...E o Vento Levou', '1939', 8.1),\n",
       " ('159', 'V de Vingança', '2005', 8.1),\n",
       " ('160', 'O Enigma de Outro Mundo', '1982', 8.1),\n",
       " ('161', 'Divertida Mente', '2015', 8.1),\n",
       " ('162', 'Jogos, Trapaças e Dois Canos Fumegantes', '1998', 8.1),\n",
       " ('163', 'Disque M para Matar', '1954', 8.1),\n",
       " ('164', 'O Segredo dos Seus Olhos', '2009', 8.1),\n",
       " ('165', 'A Ponte do Rio Kwai', '1957', 8.1),\n",
       " ('166', 'O Castelo Animado', '2004', 8.1),\n",
       " ('167', 'Três Anúncios para um Crime', '2017', 8.1),\n",
       " ('168', 'Trainspotting: Sem Limites', '1996', 8.1),\n",
       " ('169', 'Gran Torino', '2008', 8.1),\n",
       " ('170', 'Guerreiro', '2011', 8.1),\n",
       " ('171', 'Fargo: Uma Comédia de Erros', '1996', 8.1),\n",
       " ('172', 'Meu Amigo Totoro', '1988', 8.1),\n",
       " ('173', 'Os Suspeitos', '2013', 8.1),\n",
       " ('174', 'Menina de Ouro', '2004', 8.1),\n",
       " ('175', 'Em Busca do Ouro', '1925', 8.1),\n",
       " ('176', 'Blade Runner: O Caçador de Androides', '1982', 8.1),\n",
       " ('177', 'Prenda-me se for Capaz', '2002', 8.1),\n",
       " ('178', 'Sindicato de Ladrões', '1954', 8.1),\n",
       " ('179', 'O 3º Homem', '1949', 8.1),\n",
       " ('180', 'Filhos do Paraíso', '1997', 8.1),\n",
       " ('181', 'Ben-Hur', '1959', 8.1),\n",
       " ('182', '12 Anos de Escravidão', '2013', 8.1),\n",
       " ('183', 'A General', '1926', 8.1),\n",
       " ('184', 'Morangos Silvestres', '1957', 8.1),\n",
       " ('185', 'Garota Exemplar', '2014', 8.1),\n",
       " ('186', 'Antes do Amanhecer', '1995', 8.1),\n",
       " ('187', 'Harry Potter e as Relíquias da Morte - Parte 2', '2011', 8.1),\n",
       " ('188', 'O Franco Atirador', '1978', 8.1),\n",
       " ('189', 'Em Nome do Pai', '1993', 8.1),\n",
       " ('190', 'O Grande Hotel Budapeste', '2014', 8.1),\n",
       " ('191', 'A Mulher Faz o Homem', '1939', 8.1),\n",
       " ('192', 'O Salário do Medo', '1953', 8.1),\n",
       " ('193', 'Barry Lyndon', '1975', 8.1),\n",
       " ('194', 'Bancando o Águia', '1924', 8.1),\n",
       " ('195', 'Memórias de um Assassino', '2003', 8.1),\n",
       " ('196', 'O Quarto de Jack', '2015', 8.1),\n",
       " ('197', 'Até o Último Homem', '2016', 8.1),\n",
       " ('198', 'Klaus', '2019', 8.1),\n",
       " ('199', 'O Sétimo Selo', '1957', 8.1),\n",
       " ('200', 'Relatos Selvagens', '2014', 8.1),\n",
       " ('201', 'O Grande Lebowski', '1998', 8.1),\n",
       " ('202', 'Mad Max: Estrada da Fúria', '2015', 8.1),\n",
       " ('203', 'Como Treinar o Seu Dragão', '2010', 8.1),\n",
       " ('204', 'Mary e Max: Uma Amizade Diferente', '2009', 8.1),\n",
       " ('205', 'Monstros S.A.', '2001', 8.1),\n",
       " ('206', 'Tubarão', '1975', 8.1),\n",
       " ('207', \"O Martírio de Joana D'Arc\", '1928', 8.1),\n",
       " ('208', 'Hotel Ruanda', '2004', 8.1),\n",
       " ('209', 'Era uma Vez em Tóquio', '1953', 8.1),\n",
       " ('210', 'Sociedade dos Poetas Mortos', '1989', 8.1),\n",
       " ('211', 'A Canção da Estrada', '1955', 8.1),\n",
       " ('212', 'Platoon', '1986', 8.0),\n",
       " ('213', 'Rocky: Um Lutador', '1976', 8.0),\n",
       " ('214', 'Ford vs Ferrari', '2019', 8.0),\n",
       " ('215', 'Conta Comigo', '1986', 8.0),\n",
       " ('216', 'O Exterminador do Futuro', '1984', 8.0),\n",
       " ('217', 'Spotlight: Segredos Revelados', '2015', 8.0),\n",
       " ('218', 'Rush: No Limite da Emoção', '2013', 8.0),\n",
       " ('219', 'Na Natureza Selvagem', '2007', 8.0),\n",
       " ('220', 'Rede de Intrigas', '1976', 8.0),\n",
       " ('221', 'O Mágico de Oz', '1939', 8.0),\n",
       " ('222', 'Logan', '2017', 8.0),\n",
       " ('223', 'Feitiço do Tempo', '1993', 8.0),\n",
       " ('224', 'Ratatouille', '2007', 8.0),\n",
       " ('225', 'Antes do Pôr-do-Sol', '2004', 8.0),\n",
       " ('226', 'O Exorcista', '1973', 8.0),\n",
       " ('227', 'Os Melhores Anos de Nossa Vida', '1946', 8.0),\n",
       " ('228', 'Os Incríveis', '2004', 8.0),\n",
       " ('229', 'Ser ou Não Ser', '1942', 8.0),\n",
       " ('230', 'As Vinhas da Ira', '1940', 8.0),\n",
       " ('231', 'Rebecca, a Mulher Inesquecível', '1940', 8.0),\n",
       " ('232', 'A Batalha de Argel', '1966', 8.0),\n",
       " ('233', 'Sempre ao Seu Lado', '2009', 8.0),\n",
       " ('234', 'Rebeldia Indomável', '1967', 8.0),\n",
       " ('235', 'Amores Brutos', '2000', 8.0),\n",
       " ('236', 'Piratas do Caribe: A Maldição do Pérola Negra', '2003', 8.0),\n",
       " ('237', 'O Ódio', '1995', 8.0),\n",
       " ('238', 'Os Incompreendidos', '1959', 8.0),\n",
       " ('239', 'Quando Duas Mulheres Pecam', '1966', 8.0),\n",
       " ('240', 'A Vida de Brian', '1979', 8.0),\n",
       " ('241', 'Meu Pai e Meu Filho', '2005', 8.0),\n",
       " ('242', 'Dersu Uzala', '1975', 8.0),\n",
       " ('243', 'A Noviça Rebelde', '1965', 8.0),\n",
       " ('244', 'Aconteceu Naquela Noite', '1934', 8.0),\n",
       " ('245', 'A Criada', '2016', 8.0),\n",
       " ('246', 'Jai Bhim', '2021', 8.0),\n",
       " ('247', 'Aladdin', '1992', 8.0),\n",
       " ('248', 'Gandhi', '1982', 8.0),\n",
       " ('249', 'Histórias Cruzadas', '2011', 8.0),\n",
       " ('250', 'A Bela e a Fera', '1991', 8.0)]"
      ]
     },
     "execution_count": 89,
     "metadata": {},
     "output_type": "execute_result"
    }
   ],
   "source": [
    "movies_list"
   ]
  },
  {
   "cell_type": "code",
   "execution_count": 125,
   "metadata": {},
   "outputs": [],
   "source": [
    "import pandas as pd\n",
    "import csv"
   ]
  },
  {
   "cell_type": "code",
   "execution_count": 92,
   "metadata": {},
   "outputs": [],
   "source": [
    "fields = ['Colocação', 'Nome', 'Ano', 'Nota']"
   ]
  },
  {
   "cell_type": "code",
   "execution_count": 93,
   "metadata": {},
   "outputs": [],
   "source": [
    "rows = movies_list"
   ]
  },
  {
   "cell_type": "code",
   "execution_count": 144,
   "metadata": {},
   "outputs": [],
   "source": [
    "with open('f.csv', 'w') as f:\n",
    "   pass"
   ]
  },
  {
   "cell_type": "code",
   "execution_count": 153,
   "metadata": {},
   "outputs": [],
   "source": [
    "with open('f.csv', 'w') as f:\n",
    "      \n",
    "    # using csv.writer method from CSV package\n",
    "    write = csv.writer(f)\n",
    "      \n",
    "    write.writerow(fields)\n",
    "    write.writerows(rows)\n"
   ]
  },
  {
   "cell_type": "code",
   "execution_count": 219,
   "metadata": {},
   "outputs": [],
   "source": [
    "with open (file = 'FILME.csv', mode='r', encoding = 'utf8') as filme:\n",
    "    leitor_csv_iter = csv.reader (filme)"
   ]
  },
  {
   "cell_type": "code",
   "execution_count": 220,
   "metadata": {},
   "outputs": [
    {
     "name": "stdout",
     "output_type": "stream",
     "text": [
      "<_io.TextIOWrapper name='FILME.csv' mode='r' encoding='utf8'>\n"
     ]
    }
   ],
   "source": [
    "print (filme)"
   ]
  },
  {
   "cell_type": "code",
   "execution_count": 158,
   "metadata": {},
   "outputs": [],
   "source": [
    "df = pd.read_csv('f.csv')"
   ]
  },
  {
   "cell_type": "code",
   "execution_count": 196,
   "metadata": {},
   "outputs": [
    {
     "name": "stdout",
     "output_type": "stream",
     "text": [
      "     Colocação                            Nome   Ano  Nota\n",
      "0            1           Um Sonho de Liberdade  1994   9.2\n",
      "1            2               O Poderoso Chefão  1972   9.2\n",
      "2            3  Batman: O Cavaleiro das Trevas  2008   9.0\n",
      "3            4            O Poderoso Chefão II  1974   9.0\n",
      "4            5        12 Homens e uma Sentença  1957   8.9\n",
      "..         ...                             ...   ...   ...\n",
      "245        246                        Jai Bhim  2021   8.0\n",
      "246        247                         Aladdin  1992   8.0\n",
      "247        248                          Gandhi  1982   8.0\n",
      "248        249              Histórias Cruzadas  2011   8.0\n",
      "249        250                 A Bela e a Fera  1991   8.0\n",
      "\n",
      "[250 rows x 4 columns]\n"
     ]
    }
   ],
   "source": [
    "print(df)"
   ]
  },
  {
   "cell_type": "code",
   "execution_count": 221,
   "metadata": {},
   "outputs": [],
   "source": [
    "df=df.loc[0:9]"
   ]
  },
  {
   "cell_type": "code",
   "execution_count": 223,
   "metadata": {},
   "outputs": [
    {
     "name": "stdout",
     "output_type": "stream",
     "text": [
      "   Colocação                                     Nome   Ano  Nota\n",
      "0          1                    Um Sonho de Liberdade  1994   9.2\n",
      "1          2                        O Poderoso Chefão  1972   9.2\n",
      "2          3           Batman: O Cavaleiro das Trevas  2008   9.0\n",
      "3          4                     O Poderoso Chefão II  1974   9.0\n",
      "4          5                 12 Homens e uma Sentença  1957   8.9\n",
      "5          6                     A Lista de Schindler  1993   8.9\n",
      "6          7     O Senhor dos Anéis: O Retorno do Rei  2003   8.9\n",
      "7          8         Pulp Fiction: Tempo de Violência  1994   8.9\n",
      "8          9  O Senhor dos Anéis: A Sociedade do Anel  2001   8.8\n",
      "9         10                  Três Homens em Conflito  1966   8.8\n"
     ]
    }
   ],
   "source": [
    "print(df)"
   ]
  },
  {
   "cell_type": "code",
   "execution_count": 224,
   "metadata": {},
   "outputs": [],
   "source": [
    "df.to_csv('FILMES.csv', index=False, sep=';')\n"
   ]
  },
  {
   "cell_type": "code",
   "execution_count": 227,
   "metadata": {},
   "outputs": [],
   "source": [
    "df2=pd.read_csv(r'C:\\Users\\PC\\Downloads\\FILMES.csv', sep=';')"
   ]
  },
  {
   "cell_type": "code",
   "execution_count": 229,
   "metadata": {},
   "outputs": [
    {
     "name": "stdout",
     "output_type": "stream",
     "text": [
      "   Colocação                                     Nome   Ano  Nota\n",
      "0          1                    Um Sonho de Liberdade  1994   9.2\n",
      "1          2                        O Poderoso Chefão  1972   9.2\n",
      "2          3           Batman: O Cavaleiro das Trevas  2008   9.0\n",
      "3          4                     O Poderoso Chefão II  1974   9.0\n",
      "4          5                 12 Homens e uma Sentença  1957   8.9\n",
      "5          6                     A Lista de Schindler  1993   8.9\n",
      "6          7     O Senhor dos Anéis: O Retorno do Rei  2003   8.9\n",
      "7          8         Pulp Fiction: Tempo de Violência  1994   8.9\n",
      "8          9  O Senhor dos Anéis: A Sociedade do Anel  2001   8.8\n",
      "9         10                  Três Homens em Conflito  1966   8.8\n"
     ]
    }
   ],
   "source": [
    "print(df2)"
   ]
  },
  {
   "cell_type": "code",
   "execution_count": null,
   "metadata": {},
   "outputs": [],
   "source": []
  },
  {
   "cell_type": "code",
   "execution_count": 204,
   "metadata": {},
   "outputs": [],
   "source": [
    "df10 = pd.read_csv('FILMES.csv')"
   ]
  },
  {
   "cell_type": "code",
   "execution_count": 205,
   "metadata": {},
   "outputs": [
    {
     "data": {
      "text/html": [
       "<div>\n",
       "<style scoped>\n",
       "    .dataframe tbody tr th:only-of-type {\n",
       "        vertical-align: middle;\n",
       "    }\n",
       "\n",
       "    .dataframe tbody tr th {\n",
       "        vertical-align: top;\n",
       "    }\n",
       "\n",
       "    .dataframe thead th {\n",
       "        text-align: right;\n",
       "    }\n",
       "</style>\n",
       "<table border=\"1\" class=\"dataframe\">\n",
       "  <thead>\n",
       "    <tr style=\"text-align: right;\">\n",
       "      <th></th>\n",
       "      <th>Colocação;Nome;Ano;Nota</th>\n",
       "    </tr>\n",
       "  </thead>\n",
       "  <tbody>\n",
       "    <tr>\n",
       "      <th>0</th>\n",
       "      <td>1;Um Sonho de Liberdade;1994;9.2</td>\n",
       "    </tr>\n",
       "    <tr>\n",
       "      <th>1</th>\n",
       "      <td>2;O Poderoso Chefão;1972;9.2</td>\n",
       "    </tr>\n",
       "    <tr>\n",
       "      <th>2</th>\n",
       "      <td>3;Batman: O Cavaleiro das Trevas;2008;9.0</td>\n",
       "    </tr>\n",
       "    <tr>\n",
       "      <th>3</th>\n",
       "      <td>4;O Poderoso Chefão II;1974;9.0</td>\n",
       "    </tr>\n",
       "    <tr>\n",
       "      <th>4</th>\n",
       "      <td>5;12 Homens e uma Sentença;1957;8.9</td>\n",
       "    </tr>\n",
       "  </tbody>\n",
       "</table>\n",
       "</div>"
      ],
      "text/plain": [
       "                     Colocação;Nome;Ano;Nota\n",
       "0           1;Um Sonho de Liberdade;1994;9.2\n",
       "1               2;O Poderoso Chefão;1972;9.2\n",
       "2  3;Batman: O Cavaleiro das Trevas;2008;9.0\n",
       "3            4;O Poderoso Chefão II;1974;9.0\n",
       "4        5;12 Homens e uma Sentença;1957;8.9"
      ]
     },
     "execution_count": 205,
     "metadata": {},
     "output_type": "execute_result"
    }
   ],
   "source": [
    "df10.head()"
   ]
  },
  {
   "cell_type": "code",
   "execution_count": null,
   "metadata": {},
   "outputs": [],
   "source": []
  },
  {
   "cell_type": "code",
   "execution_count": null,
   "metadata": {},
   "outputs": [],
   "source": []
  },
  {
   "cell_type": "code",
   "execution_count": 161,
   "metadata": {},
   "outputs": [
    {
     "name": "stdout",
     "output_type": "stream",
     "text": [
      "     Colocação                            Nome   Ano  Nota\n",
      "0            1           Um Sonho de Liberdade  1994   9.2\n",
      "1            2               O Poderoso Chefão  1972   9.2\n",
      "2            3  Batman: O Cavaleiro das Trevas  2008   9.0\n",
      "3            4            O Poderoso Chefão II  1974   9.0\n",
      "4            5        12 Homens e uma Sentença  1957   8.9\n",
      "..         ...                             ...   ...   ...\n",
      "245        246                        Jai Bhim  2021   8.0\n",
      "246        247                         Aladdin  1992   8.0\n",
      "247        248                          Gandhi  1982   8.0\n",
      "248        249              Histórias Cruzadas  2011   8.0\n",
      "249        250                 A Bela e a Fera  1991   8.0\n",
      "\n",
      "[250 rows x 4 columns]\n"
     ]
    }
   ],
   "source": [
    "print (df)"
   ]
  },
  {
   "cell_type": "code",
   "execution_count": null,
   "metadata": {
    "id": "Xa7FMBfsxs5l"
   },
   "outputs": [],
   "source": [
    "# c) Utilize o código abaixo para iterar nas linhas e colunas da tabela e preencher a variavel conteudo_extraido\n",
    "\n",
    "conteudo_extraido = [textos_coluna]\n",
    "\n",
    "tabela = pagina.find('table', {'class': 'chart'})\n",
    "\n",
    "for linha in tabela.find_all('tr'):\n",
    "  textos_coluna = list()\n",
    "\n",
    "  for coluna in linha.find_all('td'):\n",
    "    texto_coluna = coluna.get_text().strip().split('\\n')\n",
    "    textos_coluna += texto_coluna\n",
    "    name = coluna.find('td', class_='TitleColumn')\n",
    "  print(textos_coluna)\n",
    "  ... # continue o codigo aqui"
   ]
  },
  {
   "cell_type": "code",
   "execution_count": null,
   "metadata": {},
   "outputs": [],
   "source": [
    "print (name)"
   ]
  },
  {
   "cell_type": "code",
   "execution_count": null,
   "metadata": {},
   "outputs": [],
   "source": []
  },
  {
   "cell_type": "code",
   "execution_count": null,
   "metadata": {},
   "outputs": [],
   "source": [
    "textos_coluna(1)"
   ]
  },
  {
   "cell_type": "code",
   "execution_count": null,
   "metadata": {
    "id": "RNd20OxEyIWV"
   },
   "outputs": [],
   "source": [
    "# d) Escreva o arquivo imdb.csv com o conteudo da variavel conteudo_extraido\n",
    "\n",
    "... # continue o codigo aqui"
   ]
  },
  {
   "cell_type": "markdown",
   "metadata": {
    "id": "waxn4B2UDHyl"
   },
   "source": [
    "---"
   ]
  },
  {
   "cell_type": "markdown",
   "metadata": {
    "id": "f0NUUvNgJQXz"
   },
   "source": [
    "## 2\\. Bônus: Projeto em destaque do GitHub"
   ]
  },
  {
   "cell_type": "markdown",
   "metadata": {
    "id": "daX6KfV6Jdpk"
   },
   "source": [
    "**Nota**: Este exercício não é obrigatório."
   ]
  },
  {
   "cell_type": "markdown",
   "metadata": {
    "id": "GAaUh7-xJ72k"
   },
   "source": [
    "O [GitHub](https://github.com/) é o maior repositória de código aberto na internet. Nele, você pode encontrar o código fonte de diversos projetos, alguns inclusive utilizamos em nossas aulas, como o [Pandas](https://github.com/pandas-dev/pandas). O GitHub apresenta uma página de projetos em destaque, que são os projetos que estão recebendo muita atenção da comunidade: "
   ]
  },
  {
   "cell_type": "markdown",
   "metadata": {
    "id": "J1yxkZ-MKrWO"
   },
   "source": [
    "![image.png](data:image/png;base64,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)"
   ]
  },
  {
   "cell_type": "markdown",
   "metadata": {
    "id": "8e8HYMAJLA__"
   },
   "source": [
    "Utilize os pacotes Python `requests` e `beautifulsoup4` para extrair os 10 projetos mais populares do GitHub, este é o link:\n",
    "\n",
    "```\n",
    "https://github.com/trending\n",
    "```\n",
    "\n",
    "Escreva os dados extraídos no arquivo csv `github.csv` separado por `;` no seguinte formato:\n",
    "\n",
    "```\n",
    "ranking;project;language;stars;stars_today;forks\n",
    "1;the-book-of-secret-knowledge;;44502;692;4685\n",
    "2;whynotwin11;autoit;2242;1585;117\n",
    "3;lede;c;16732;66;14317\n",
    "```\n",
    "\n",
    "**Nota**: Confira o arquivo `robots.txt` do website."
   ]
  },
  {
   "cell_type": "code",
   "execution_count": null,
   "metadata": {
    "id": "4LpfeqZcMO4a"
   },
   "outputs": [],
   "source": [
    "# solução do exercício 2"
   ]
  }
 ],
 "metadata": {
  "colab": {
   "authorship_tag": "ABX9TyMwjZSpweqTFryINxtbK0x2",
   "collapsed_sections": [],
   "name": "module_11_exercise.ipynb",
   "provenance": [],
   "toc_visible": true
  },
  "kernelspec": {
   "display_name": "Python 3 (ipykernel)",
   "language": "python",
   "name": "python3"
  },
  "language_info": {
   "codemirror_mode": {
    "name": "ipython",
    "version": 3
   },
   "file_extension": ".py",
   "mimetype": "text/x-python",
   "name": "python",
   "nbconvert_exporter": "python",
   "pygments_lexer": "ipython3",
   "version": "3.9.7"
  }
 },
 "nbformat": 4,
 "nbformat_minor": 1
}
